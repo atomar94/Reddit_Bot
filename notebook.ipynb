{
 "cells": [
  {
   "cell_type": "code",
   "execution_count": 4,
   "metadata": {
    "collapsed": false
   },
   "outputs": [],
   "source": [
    "import praw\n",
    "import configparser\n"
   ]
  },
  {
   "cell_type": "code",
   "execution_count": 5,
   "metadata": {
    "collapsed": true
   },
   "outputs": [],
   "source": [
    "cfg = configparser.ConfigParser()\n",
    "cfg['CREDENTIALS'] =  {\"Username\": \"filler\",\n",
    "                       \"Password\": \"filler\"}\n",
    "cfg['AUTH'] = {\"ClientID\": \"filler\",\n",
    "               \"Secret\": \"filler\",\n",
    "               \"UserAgent\": \"Playing with the Reddit API by <filler>\"}\n",
    "\n",
    "with open(\"credentials.ini\", 'w') as cfgfile:\n",
    "    cfg.write(cfgfile)"
   ]
  },
  {
   "cell_type": "code",
   "execution_count": 6,
   "metadata": {
    "collapsed": false
   },
   "outputs": [
    {
     "data": {
      "text/plain": [
       "['credentials.ini']"
      ]
     },
     "execution_count": 6,
     "metadata": {},
     "output_type": "execute_result"
    }
   ],
   "source": [
    "cfg = configparser.ConfigParser()\n",
    "cfg.read(\"credentials.ini\")"
   ]
  },
  {
   "cell_type": "code",
   "execution_count": 7,
   "metadata": {
    "collapsed": false
   },
   "outputs": [
    {
     "data": {
      "text/plain": [
       "['CREDENTIALS', 'AUTH']"
      ]
     },
     "execution_count": 7,
     "metadata": {},
     "output_type": "execute_result"
    }
   ],
   "source": [
    "cfg.sections()"
   ]
  },
  {
   "cell_type": "code",
   "execution_count": 13,
   "metadata": {
    "collapsed": false
   },
   "outputs": [
    {
     "name": "stdout",
     "output_type": "stream",
     "text": [
      "memes_420\n",
      "112694a\n",
      "02Dczsz1vt5VnA\n",
      "Ts0ZGYhLjGT41pKWzVCZF2KN9Yo\n",
      "Playing with the Reddit API by /u/memes_420\n"
     ]
    }
   ],
   "source": [
    "print(cfg[\"CREDENTIALS\"][\"Username\"])\n",
    "print(cfg[\"CREDENTIALS\"][\"Password\"])\n",
    "print(cfg[\"AUTH\"][\"ClientID\"])\n",
    "print(cfg[\"AUTH\"][\"Secret\"])\n",
    "print(cfg[\"AUTH\"][\"UserAgent\"])"
   ]
  },
  {
   "cell_type": "code",
   "execution_count": 20,
   "metadata": {
    "collapsed": false
   },
   "outputs": [],
   "source": [
    "client_id = cfg[\"AUTH\"][\"ClientID\"]\n",
    "client_secret = cfg[\"AUTH\"][\"Secret\"]\n",
    "user_agent = cfg[\"AUTH\"][\"UserAgent\"]\n",
    "\n",
    "\n",
    "reddit = praw.Reddit(client_id = client_id,\n",
    "                     client_secret = client_secret,\n",
    "                     user_agent = user_agent)"
   ]
  },
  {
   "cell_type": "code",
   "execution_count": 21,
   "metadata": {
    "collapsed": false
   },
   "outputs": [
    {
     "name": "stdout",
     "output_type": "stream",
     "text": [
      "True\n"
     ]
    }
   ],
   "source": [
    "print(reddit.read_only)"
   ]
  },
  {
   "cell_type": "code",
   "execution_count": 36,
   "metadata": {
    "collapsed": true
   },
   "outputs": [
    {
     "name": "stdout",
     "output_type": "stream",
     "text": [
      "I tried installing Python on my work computer but wasn't allowed to. Is there anyway around this?\n",
      "So I have some problems with accessing libraries I have downloaded (numpy and pymupdf in particular)... I put import numpy as ap, but when i try to use it, just a basic test (a = np.arange(15).reshape(3,5)\n",
      "print (a)) I get the following error \"C:\\Python27\\python.exe: can't open file 'C:/Users/Ryan Plump/AppData/Local/Temp/Temp1_pymupdf-1.10.0.0-py27-x64.zip/fitz/setup.py': [Errno 2] No such file or directory\", I am struggling on finding anything specifically addressing this issue and would love some help, will you be my hero? can you take away the pain?\n",
      "Stupid question: I am working with an giant array of data trying to chop it up in a specific way. I know the number of columns in each chunk, but the number of rows is variable. Basically, I need to add rows of data on until a condition is satisfied. I was trying to use np.append, np.concatenate, and np.vstack, but they are all giving me a single column array with all of the data rather than a 6 column array with the correct number of rows. I have to be missing something stupid, can anyone help me out?\n",
      "Thanks!\n",
      "I was googling for the assert_equal function the other day and found [this](https://www.peterbe.com/plog/to-assert-or-assertEqual). Tested it a little in the interpreter and can't see any difference besides looking a lot cleaner and easier to read.\n",
      "\n",
      "Is there any reason I shouldn't opt for just using the built-in assert instead of assert_equal?\n",
      "Virtualenvs: inside project dir or outside?\n",
      "Could someone help with my question here: https://www.reddit.com/r/learnpython/comments/5brri4/help_with_a_docstring_definition/dbhm7hn/\n",
      "\n",
      "Regarding type contracts in docstrings - what are the conventions? How you state, for example, an argument could be anything, num/int/str etc? obj??\n",
      "Long story short, I want to change careers and have learned alot outside of work. I've built cool stuff for my current job but now I'm worried my manager will know I'm trying to leave.\n",
      "\n",
      "It's too late to hide my Python knowledge, any advice on how to handle?\n",
      "import datetime\n",
      "\n",
      "print (\"now\")\n",
      "\n",
      "print(\"Welcome To the game\")\n",
      "print(\"Here we will collect apples\")\n",
      "name =input(\"Whats your name?\")\n",
      "print(\"Welcome +name\")\n",
      "d1 = input (\"DO YOU WANT TO PLAY Y/N?\")\n",
      "if d1 == Y:\n",
      "    begin()\n",
      "\n",
      "if d2 == N:\n",
      "    \n",
      "   input( print(\"Then See Ya\"))\n",
      "So newbie in python and when the comp asks y or no i get the answer y or n is not defined please help\n",
      "Hey, I found this solution on GitHub, and it runs fine but I have a question:\n",
      "\n",
      "In the define function part, it says [def computepay(h,r)]\n",
      "But in the end, it says [print computepay(hours,rate)]\n",
      "\n",
      "I can only see that hours and rate were defined in the input section, how did it get translated into the defined function section which uses variables h,r?\n",
      "\n",
      "Code below:\n",
      "\n",
      "try:\n",
      "    inp = raw_input(\"Please enter hours: \")\n",
      "    hours=float(inp)\n",
      "    inp = raw_input(\"Please enter rate: \")\n",
      "    rate= float(inp)\n",
      "except:\n",
      "    print \"Please enter a number as input\"\n",
      "    quit()\n",
      "\n",
      "def computepay(h,r):\n",
      "    if (h>40) : \n",
      "        pay = (40*r)+(h-40)*1.5*r\n",
      "    else:\n",
      "        pay = (h*r)     \n",
      "    return pay\n",
      "\n",
      "print computepay(hours,rate)\n",
      "With my sysadmin hat on, this is for good reason. Please do not even try to violate your computer use policy. Especially if you work with financial or other sensitive data. Policies exist for a reason and arbitrary code execution methods (such as a Python interpretor) your IT department aren't aware of are gaping security holes.\n",
      "\n",
      "If you want to use Python on a work computer please contact your managers and make the case to them, then get them to take it to your IT team.\n",
      "\n",
      "\n",
      "Taking that hat off but keeping security in mind (and not minding if you waste your company's time playing with Python for personal education/entertainment), try using a website like [repl.it](https://repl.it/languages/python3) as an online Python interpretor. Just be careful about not putting anything from your company on there as you don't know who you are giving your data or code to.\n",
      "Ask you sys admin nicely if you can install python. Explain how you are using it to streamline your tasks.\n",
      "Use an online IDE like Cloud9\n",
      "How are you trying to install these?\n",
      "You want to experiment with the optional `axis` keyword to these functions you mention.\n",
      "\n",
      "**BUT** -- and there's a big but here -- you should really not use any of those functions repeatedly if you can help it. It's very inefficient, because numpy has to repeatedly create an entirely new array that's a little bit larger and then copy in the data from the two parts you're joining, and finally discard the parts. This involves a lot of allocating and deallocating and copying of memory.\n",
      "\n",
      "There are several ways you could work around this, one way is to append your rows as lists to a big python list until all the data has been read in, and then pass the list of rows to numpy to create your big array.\n",
      "\n",
      "If you get several rows at a time you could create many small numpy arrays and append each to a python list, and then at the end, pass all of them to `np.concatenate`.\n",
      "\n",
      "I encourage you to implement both the np.append/np.concatenate/np.vstack solution and one of the two alternatives above, and see how they compare. :-)\n",
      "\n",
      "    arr.shape=(ncolls, len(arr)/ncolls)\n",
      "\n",
      "Assigning to the array shape means no data is moved or copied. It's incredibly inexpensive.\n",
      "I'm assuming you're talking about testing here. assert will raise an error but assertEqual will use the fail method of your test case.  \n",
      "\n",
      "Please don't use assert as part of your program's operation.  It's meant for inline documentation/early bug detection, and can be turned off for production by compiling with the O flag. You don't want flow control or essential logic that can be just turned off in non-debug mode.\n",
      "Why worry? Maybe they'll pay you more or promote you. At the very least they appreciate what you've done. People move on. It's not a betrayal or thing to be ashamed of. Your manager will be sad to see you go but happy for you doing what you want to do.\n",
      "Hard to tell with the format mangling. :) If you start the code-lines with 4-spaces, reddit should display it pre-formatted.\n",
      "\n",
      "But it's likely that you need to quote your Y/N responses. `input` returns a string, and in python you can use single- or double- quotes to declare a string value. So...\n",
      "\n",
      "    if d1 == 'Y':\n",
      "       # is the value of d1 the same as the string 'Y'\n",
      "       ...\n",
      "sys admins also like bribes, find out if they like coffee, red bull etc... a small act of kindness goes a long way\n",
      "I was running a different tab, I am a complete idiot apparently lol\n",
      "Yeah for testing only, not even sure what else you can use it for. Thanks for the reply. What does fail method mean? I tried googling it but I just get suggestions on how to set up your fail method. Is that what it is? That you can specify what it should do in case it fails?\n",
      "To err is human. Glad you got everything working.\n",
      "When you run your tests with nose or whatever, you get an output of test name with ok, fail or error. On error, you get an ugly traceback, because your test broke in an unexpected way.  Failure happens when the fail method gets called (Ie, within assertEqual). For instance:\n",
      "\n",
      "    class MyTest(TestCase):\n",
      "        def test_one(self):\n",
      "            self.fail('test no pass')\n",
      "\n",
      "\n",
      "Yeah, I'm doing a project to translate and mine some medical file oxps's and now I got the file importing to text and text out to csv file working down pact. All I got left is the mining for the needed info (child's play after splitting the string cause it is a standardized form), and I got some directory kinks to work out (I don't have sys admin access so that is more on my boss than me)... but yeah I am super happy with where it is at\n",
      "Looks really good.\n",
      "\n",
      "I have a question about a design choice you made though:\n",
      "\n",
      "    if url is not None:\n",
      "        self.type, self.id = re.findall(\n",
      "            \"https://open.spotify.com/(\\w+)/(\\w+)\", url\n",
      "        )[0]\n",
      "    else:\n",
      "        raise InvalidURLError(\"Enter a URL to find a resource\")\n",
      "\n",
      "Why do you allow None in the function definition by default but then disallow it in the function itself?\n",
      "I am using that so as to check if URL has been provided when the fuction is run. Is there any other way to do that? I guess there must be. \n",
      "\n",
      "Also, is this considered bad practice? \n",
      "You could just require it in the function definition.\n",
      "\n",
      "    def get(\n",
      "        self, url, yt_url=None,\n",
      "        out=\"Downloads/{artist}/{album}/{title}.mp3\"\n",
      "    ):\n",
      "\n",
      "Which would raise a TypeError, I believe, if you failed to provide the url.\n",
      "I'm currently not near a computer so can't execute. Can I use try/except to catch the TypeError inside the function and then raise my InvalidURLError?\n",
      "You can, but many people would say you shouldn't, including myself.\n",
      "\n",
      "I would consider trying to prevent the function from being called \"incorrectly\" to be out of scope.\n",
      "On the other hand, just letting `re.findall` throw an error can be more cryptic than catching that a URL wasn't provided and spitting out an error that says it needs one. Alternately, if there's a way to catch expected errors, and add your own to the stack trace and raise it, that would probably be better.\n",
      "\n",
      "Even as a positional argument, it's possible that None could accidentally or intentionally be passed to the method, so it's still worth checking it.\n",
      "If None is accidentally passed as the positional argument to url, then all you can say is \"Whoops, shouldn't haven done that Mr. programmer.\", otherwise, you're on the hook to check that every single variable ever passed into any function you ever write is not None unless it can be None.\n",
      "\n",
      "As for letting re.findall throw the error, you pointed it out yourself but i'll reiterate that it could not occur unless None was specifically passed in as the positional argument.\n",
      "\n",
      "But, this is not defined anywhere. If you and the OP prefer to write your functions in that manner it is not my place to say you're wrong, maybe just overly verbose.\n",
      "You rather not know where the error is of it ever happens?\n",
      "I am of the opinion that it's not my place to restrict the types of arguments to functions.\n",
      "\n",
      "If the user of the function I write wishes to restrict themselves, then they should do that checking themselves.\n",
      "\n",
      "If I am both the writer and the user, I'm aware of the complication that may arise and I'll implement the caller in such a way to prevent any issues.\n",
      "\n",
      "Again, this is personal preference.\n",
      "\n",
      "As for catching exceptions raised by re.findall when None is passed? I don't think it's a bad choice to rewrite the code like this:\n",
      "\n",
      "    try:\n",
      "        self.type, self.id = re.findall(\n",
      "            \"https://open.spotify.com/(\\w+)/(\\w+)\", url\n",
      "        )[0]\n",
      "    except TypeError:\n",
      "        log(\"Regex failed to parse provided url: {}\".format(url))\n",
      "        raise InvalidURLError(\"Invalid URL provided.\")\n",
      "\n",
      "Python does not have the concept of references. What is your end goal with this?\n",
      "Everything in Python is a \"reference\", except the things that aren't.\n",
      "\n",
      "Generally speaking, when you pass something in python, it's passing a reference: Lists, dicts, classes, sets, etc. However, certain things are immutable and so passing by reference has no effect on them. In your example, you're using ints. These happen to be immutable.\n",
      "\n",
      "For reference, the immutable types are:\n",
      "\n",
      "* Bool\n",
      "* Int\n",
      "* Str\n",
      "* Float\n",
      "* Tuple\n",
      "* Frozenset\n",
      "\n",
      "Doing something like:\n",
      "\n",
      "    a = []\n",
      "    b = []\n",
      "    c = [a,b]\n",
      "    print(c)\n",
      "    c[0].append(1)\n",
      "    print(a)\n",
      "\n",
      "Does what you're talking about.\n",
      "\n",
      "You should be careful because when you pass mutable types into functions as arguments and modify them, they will be modified outside the function.\n",
      "\n",
      "    def test(foo):\n",
      "        foo.append(1)\n",
      "        \n",
      "    a = []\n",
      "    print(a)\n",
      "    test(a)\n",
      "    print(a)\n",
      "You could use a dictionary, that would do what you're looking for.\n",
      "I have a lot of setting variables. For example IP Address, port, database name, user name. These variables are in an array so I can easily iterate and assign value with way less codes.\n",
      "Are you trying to load your settings from a file or something?\n",
      "That is my final plan actually.\n",
      "\n",
      "But right now I just trying things from `sys.agrv`.\n",
      "Why not use a dict?\n",
      "And how is having a reference like that going to help?\n",
      "What makes it different from list?\n",
      "I am pretty sure there is a way to cut these codes. I think if I can put reference into list I can easily iterate `[variable1, variableDefault1]` and assign value accordingly.\n",
      "\n",
      "    variable1 = None\n",
      "    variable2 = None\n",
      "    variable3 = None\n",
      "    variable4 = None\n",
      "    variable5 = None\n",
      "    variable6 = None\n",
      "    variable7 = None\n",
      "    variable8 = None\n",
      "    variable9 = None\n",
      "    variable10 = None\n",
      "    variable11 = None\n",
      "    variable12 = None\n",
      "    variable13 = None\n",
      "    variable14 = None\n",
      "    variable15 = None\n",
      "    variable16 = None\n",
      "    variable17 = None\n",
      "    variable18 = None\n",
      "    variable19 = None\n",
      "    variable20 = None\n",
      "    variable21 = None\n",
      "    variable22 = None\n",
      "    variable23 = None\n",
      "    variable24 = None\n",
      "    variable25 = None\n",
      "    variable26 = None\n",
      "\n",
      "    ...\n",
      "\n",
      "    if variable1 == None: variable1 = defaultVariable1\n",
      "    else variable1 = sys.argv[1]\n",
      "\n",
      "    if variable2 == None: variable2 = defaultVariable2\n",
      "    else variable2 = sys.argv[2]\n",
      "\n",
      "    if variable3 == None: variable3 = defaultVariable3\n",
      "    else variable3 = sys.argv[3]\n",
      "\n",
      "    if variable4 == None: variable4 = defaultVariable4\n",
      "    else variable4 = sys.argv[4]\n",
      "\n",
      "    if variable5 == None: variable5 = defaultVariable5\n",
      "    else variable5 = sys.argv[5]\n",
      "\n",
      "    if variable6 == None: variable6 = defaultVariable6\n",
      "    else variable6 = sys.argv[6]\n",
      "\n",
      "    if variable7 == None: variable7 = defaultVariable7\n",
      "    else variable7 = sys.argv[7]\n",
      "\n",
      "    if variable8 == None: variable8 = defaultVariable8\n",
      "    else variable8 = sys.argv[8]\n",
      "\n",
      "    if variable9 == None: variable9 = defaultVariable9\n",
      "    else variable9 = sys.argv[9]\n",
      "\n",
      "    if variable10 == None: variable10 = defaultVariable10\n",
      "    else variable10 = sys.argv[10]\n",
      "\n",
      "    if variable11 == None: variable11 = defaultVariable11\n",
      "    else variable11 = sys.argv[11]\n",
      "\n",
      "    if variable12 == None: variable12 = defaultVariable12\n",
      "    else variable12 = sys.argv[12]\n",
      "\n",
      "    if variable13 == None: variable13 = defaultVariable13\n",
      "    else variable13 = sys.argv[13]\n",
      "\n",
      "    if variable14 == None: variable14 = defaultVariable14\n",
      "    else variable14 = sys.argv[14]\n",
      "\n",
      "    if variable15 == None: variable15 = defaultVariable15\n",
      "    else variable15 = sys.argv[15]\n",
      "\n",
      "    if variable16 == None: variable16 = defaultVariable16\n",
      "    else variable16 = sys.argv[16]\n",
      "\n",
      "    if variable17 == None: variable17 = defaultVariable17\n",
      "    else variable17 = sys.argv[17]\n",
      "\n",
      "    if variable18 == None: variable18 = defaultVariable18\n",
      "    else variable18 = sys.argv[18]\n",
      "\n",
      "    if variable19 == None: variable19 = defaultVariable19\n",
      "    else variable19 = sys.argv[19]\n",
      "\n",
      "    if variable20 == None: variable20 = defaultVariable20\n",
      "    else variable20 = sys.argv[20]\n",
      "\n",
      "    if variable21 == None: variable21 = defaultVariable21\n",
      "    else variable21 = sys.argv[21]\n",
      "\n",
      "    if variable22 == None: variable22 = defaultVariable22\n",
      "    else variable22 = sys.argv[22]\n",
      "\n",
      "    if variable23 == None: variable23 = defaultVariable23\n",
      "    else variable23 = sys.argv[23]\n",
      "\n",
      "    if variable24 == None: variable24 = defaultVariable24\n",
      "    else variable24 = sys.argv[24]\n",
      "\n",
      "    if variable25 == None: variable25 = defaultVariable25\n",
      "    else variable25 = sys.argv[25]\n",
      "\n",
      "    if variable26 == None: variable26 = defaultVariable26\n",
      "    else variable26 = sys.argv[26]\n",
      "It uses names to reference list items:\n",
      "\n",
      "    opts = {'url': 'http://www.google.com', 'threads': 2}\n",
      "\n",
      "    print opts['url']\n",
      "    opts['threads'] = 1\n",
      "\n",
      "Look into `argparse` instead - it allows you to define command line arguments with defaults. Or maybe `docopt`.\n",
      "Try something like this?\n",
      "\n",
      "    DEFAULTS = [\"default1\", \"default2\",... ]\n",
      "    variables = [None] * len(DEFAULTS)\n",
      "\n",
      "    ... \n",
      "\n",
      "    final_variables = []\n",
      "    for variable, default in zip(sys.argv[1:], DEFAULTS):\n",
      "        if variable is None:\n",
      "            final_variables.append(default)\n",
      "        else:\n",
      "            final_variables.append(variable)\n",
      "\n",
      "You should seek more advice on your code after fixing this issue, since this is almost certainly not an optimal solution, but I can't give you anything better without a better understanding of what you're trying to do. \n",
      "    \n",
      "I am trying `docopt` thanks.\n",
      "\n",
      "However, arguments aside, how could the (hypothetically) best Python programmer assigning value over thousands variables?\n",
      "If you have a thousand variables, you have a design issue and should really rethink why you have those variables like that.\n",
      "How many variables are considered to have design issues?\n",
      "What do your \\_\\_init__.py files look like?\n",
      "Is this as simple as app1/ being named the same as app1.py is causing problems?\n",
      "There's nothing currently in them.\n",
      "> Is this as simple as app1/ being named the same as app1.py is causing problems?\n",
      "\n",
      "Pretty much.\n",
      "\n",
      "The reason I posed the initial question is that I suspected you were trying to get fancy with \\_\\_init__.py.\n",
      "\n",
      "If that's not the case, you can just rename one of them and everything will wash out.\n",
      "\n",
      "However, if you liked the naming conventions, you can use the \\_\\_init__.py files to attempt to maintain them.\n",
      "\n",
      "[You can read more here](http://mikegrouchy.com/blog/2012/05/be-pythonic-__init__py.html)\n",
      "Interesting... I'm going to have to study that.  Thanks for your help!\n",
      "never done any webscraping, but cant you just count the length of the list?\n",
      "This is a pretty good place for sets:\n",
      "\n",
      "    >>> seen = set([1,2,3,4,5])\n",
      "    >>> today = set([1,2,3,4,6])\n",
      "    >>> today-seen\n",
      "    {6}\n",
      "    \n"
     ]
    }
   ],
   "source": [
    "submissions = reddit.subreddit(\"learnpython\").hot(limit=5)\n",
    "for submission in submissions:\n",
    "    submission.comments.replace_more(limit=0)\n",
    "    for comment in submission.comments.list():\n",
    "        print(comment.body)"
   ]
  },
  {
   "cell_type": "code",
   "execution_count": 44,
   "metadata": {
    "collapsed": false
   },
   "outputs": [],
   "source": [
    "topsubs = []\n",
    "topsubs.append(\"askreddit\")\n",
    "topsubs.append(\"funny\")\n",
    "topsubs.append(\"todayilearned\")\n",
    "topsubs.append(\"science\")\n",
    "topsubs.append(\"pics\")\n",
    "topsubs.append(\"worldnews\")\n",
    "topsubs.append(\"iama\")\n",
    "topsubs.append(\"announcements\")\n",
    "topsubs.append(\"gaming\")\n",
    "topsubs.append(\"videos\")\n",
    "topsubs.append(\"movies\")\n",
    "topsubs.append(\"blog\")\n",
    "topsubs.append(\"music\")\n",
    "topsubs.append(\"aww\")\n",
    "topsubs.append(\"news\")\n",
    "topsubs.append(\"gifs\")\n",
    "topsubs.append(\"explainlikeimfive\")\n",
    "topsubs.append(\"askscience\")\n",
    "topsubs.append(\"earthporn\")\n",
    "topsubs.append(\"books\")\n",
    "topsubs.append(\"television\")\n",
    "topsubs.append(\"lifeprotips\")\n",
    "topsubs.append(\"mildlyinteresting\")\n",
    "topsubs.append(\"diy\")\n",
    "topsubs.append(\"showerthoughts\")\n",
    "\n",
    "with open(\"subreddits.txt\", \"w\") as file:\n",
    "    for item in topsubs:\n",
    "        file.write(item + \"\\n\")"
   ]
  },
  {
   "cell_type": "code",
   "execution_count": 12,
   "metadata": {
    "collapsed": false
   },
   "outputs": [],
   "source": [
    "import praw\n",
    "import configloader\n",
    "import subredditmodel\n",
    "\n",
    "\n",
    "cfg = configloader.ConfigLoader(\"credentials.ini\")\n",
    "\n",
    "r = praw.Reddit(client_id = cfg.client_id,\n",
    "                client_secret = cfg.client_secret,\n",
    "                user_agent = cfg.user_agent)\n",
    "\n",
    "askreddit_model = subredditmodel.SubredditModel(praw_object=r, \n",
    "                                                subreddit=\"askreddit\")\n"
   ]
  },
  {
   "cell_type": "code",
   "execution_count": null,
   "metadata": {
    "collapsed": false
   },
   "outputs": [],
   "source": [
    "\n"
   ]
  },
  {
   "cell_type": "code",
   "execution_count": null,
   "metadata": {
    "collapsed": true
   },
   "outputs": [],
   "source": []
  },
  {
   "cell_type": "code",
   "execution_count": 13,
   "metadata": {
    "collapsed": false
   },
   "outputs": [
    {
     "data": {
      "text/html": [
       "<div>\n",
       "<table border=\"1\" class=\"dataframe\">\n",
       "  <thead>\n",
       "    <tr style=\"text-align: right;\">\n",
       "      <th></th>\n",
       "      <th>x</th>\n",
       "      <th>y</th>\n",
       "    </tr>\n",
       "  </thead>\n",
       "  <tbody>\n",
       "    <tr>\n",
       "      <th>0</th>\n",
       "      <td>16</td>\n",
       "      <td>58</td>\n",
       "    </tr>\n",
       "    <tr>\n",
       "      <th>1</th>\n",
       "      <td>36</td>\n",
       "      <td>97</td>\n",
       "    </tr>\n",
       "    <tr>\n",
       "      <th>2</th>\n",
       "      <td>1</td>\n",
       "      <td>49</td>\n",
       "    </tr>\n",
       "    <tr>\n",
       "      <th>3</th>\n",
       "      <td>44</td>\n",
       "      <td>69</td>\n",
       "    </tr>\n",
       "    <tr>\n",
       "      <th>4</th>\n",
       "      <td>20</td>\n",
       "      <td>22</td>\n",
       "    </tr>\n",
       "  </tbody>\n",
       "</table>\n",
       "</div>"
      ],
      "text/plain": [
       "    x   y\n",
       "0  16  58\n",
       "1  36  97\n",
       "2   1  49\n",
       "3  44  69\n",
       "4  20  22"
      ]
     },
     "execution_count": 13,
     "metadata": {},
     "output_type": "execute_result"
    }
   ],
   "source": [
    "import pandas as pd\n",
    "%matplotlib inline\n",
    "import random\n",
    "import matplotlib.pyplot as plt\n",
    "import seaborn as sns\n",
    "df = pd.DataFrame()\n",
    "\n",
    "df['x'] = random.sample(range(1, 100), 25)\n",
    "df['y'] = random.sample(range(1, 100), 25)\n",
    "df.head()"
   ]
  },
  {
   "cell_type": "raw",
   "metadata": {
    "collapsed": true
   },
   "source": []
  },
  {
   "cell_type": "code",
   "execution_count": 14,
   "metadata": {
    "collapsed": false
   },
   "outputs": [
    {
     "data": {
      "text/plain": [
       "<seaborn.axisgrid.FacetGrid at 0x1c4e6944f60>"
      ]
     },
     "execution_count": 14,
     "metadata": {},
     "output_type": "execute_result"
    },
    {
     "data": {
      "image/png": "[encoded data removed]",
      "text/plain": [
       "<matplotlib.figure.Figure at 0x1c4e691af98>"
      ]
     },
     "metadata": {},
     "output_type": "display_data"
    }
   ],
   "source": [
    "sns.lmplot('x', 'y', data=df, fit_reg=False)"
   ]
  },
  {
   "cell_type": "code",
   "execution_count": 16,
   "metadata": {
    "collapsed": false
   },
   "outputs": [
    {
     "ename": "AttributeError",
     "evalue": "'SubredditModel' object has no attribute 'get_df'",
     "output_type": "error",
     "traceback": [
      "\u001b[0;31m---------------------------------------------------------------------------\u001b[0m",
      "\u001b[0;31mAttributeError\u001b[0m                            Traceback (most recent call last)",
      "\u001b[0;32m<ipython-input-16-e36d77f2b78b>\u001b[0m in \u001b[0;36m<module>\u001b[0;34m()\u001b[0m\n\u001b[0;32m----> 1\u001b[0;31m \u001b[0msns\u001b[0m\u001b[0;34m.\u001b[0m\u001b[0mkdeplot\u001b[0m\u001b[0;34m(\u001b[0m\u001b[0maskreddit_model\u001b[0m\u001b[0;34m.\u001b[0m\u001b[0mget_df\u001b[0m\u001b[0;34m(\u001b[0m\u001b[0;34m)\u001b[0m\u001b[0;34m.\u001b[0m\u001b[0mscore\u001b[0m\u001b[0;34m)\u001b[0m\u001b[0;34m\u001b[0m\u001b[0m\n\u001b[0m",
      "\u001b[0;31mAttributeError\u001b[0m: 'SubredditModel' object has no attribute 'get_df'"
     ]
    }
   ],
   "source": [
    "sns.kdeplot(askreddit_model.get_df().score)"
   ]
  },
  {
   "cell_type": "code",
   "execution_count": null,
   "metadata": {
    "collapsed": false
   },
   "outputs": [],
   "source": []
  },
  {
   "cell_type": "code",
   "execution_count": null,
   "metadata": {
    "collapsed": true
   },
   "outputs": [],
   "source": []
  }
 ],
 "metadata": {
  "kernelspec": {
   "display_name": "Python 3",
   "language": "python",
   "name": "python3"
  },
  "language_info": {
   "codemirror_mode": {
    "name": "ipython",
    "version": 3
   },
   "file_extension": ".py",
   "mimetype": "text/x-python",
   "name": "python",
   "nbconvert_exporter": "python",
   "pygments_lexer": "ipython3",
   "version": "3.5.2"
  }
 },
 "nbformat": 4,
 "nbformat_minor": 0
}
