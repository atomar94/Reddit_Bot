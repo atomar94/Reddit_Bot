{
 "cells": [
  {
   "cell_type": "code",
   "execution_count": 4,
   "metadata": {
    "collapsed": false
   },
   "outputs": [],
   "source": [
    "import praw\n",
    "import configparser\n"
   ]
  },
  {
   "cell_type": "code",
   "execution_count": 5,
   "metadata": {
    "collapsed": true
   },
   "outputs": [],
   "source": [
    "cfg = configparser.ConfigParser()\n",
    "cfg['CREDENTIALS'] =  {\"Username\": \"filler\",\n",
    "                       \"Password\": \"filler\"}\n",
    "cfg['AUTH'] = {\"ClientID\": \"filler\",\n",
    "               \"Secret\": \"filler\",\n",
    "               \"UserAgent\": \"Playing with the Reddit API by <filler>\"}\n",
    "\n",
    "with open(\"credentials.ini\", 'w') as cfgfile:\n",
    "    cfg.write(cfgfile)"
   ]
  },
  {
   "cell_type": "code",
   "execution_count": 6,
   "metadata": {
    "collapsed": false
   },
   "outputs": [
    {
     "data": {
      "text/plain": [
       "['credentials.ini']"
      ]
     },
     "execution_count": 6,
     "metadata": {},
     "output_type": "execute_result"
    }
   ],
   "source": [
    "cfg = configparser.ConfigParser()\n",
    "cfg.read(\"credentials.ini\")"
   ]
  },
  {
   "cell_type": "code",
   "execution_count": 7,
   "metadata": {
    "collapsed": false
   },
   "outputs": [
    {
     "data": {
      "text/plain": [
       "['CREDENTIALS', 'AUTH']"
      ]
     },
     "execution_count": 7,
     "metadata": {},
     "output_type": "execute_result"
    }
   ],
   "source": [
    "cfg.sections()"
   ]
  },
  {
   "cell_type": "code",
   "execution_count": 13,
   "metadata": {
    "collapsed": false
   },
   "outputs": [
    {
     "name": "stdout",
     "output_type": "stream",
     "text": [
      "memes_420\n",
      "112694a\n",
      "02Dczsz1vt5VnA\n",
      "Ts0ZGYhLjGT41pKWzVCZF2KN9Yo\n",
      "Playing with the Reddit API by /u/memes_420\n"
     ]
    }
   ],
   "source": [
    "print(cfg[\"CREDENTIALS\"][\"Username\"])\n",
    "print(cfg[\"CREDENTIALS\"][\"Password\"])\n",
    "print(cfg[\"AUTH\"][\"ClientID\"])\n",
    "print(cfg[\"AUTH\"][\"Secret\"])\n",
    "print(cfg[\"AUTH\"][\"UserAgent\"])"
   ]
  },
  {
   "cell_type": "code",
   "execution_count": null,
   "metadata": {
    "collapsed": false
   },
   "outputs": [],
   "source": [
    "client_id = cfg[\"AUTH\"][\"ClientID\"]\n",
    "client_secret = cfg[\"AUTH\"][\"Secret\"]\n",
    "user_agent = cfg[\"AUTH\"][\"UserAgent\"]\n",
    "\n",
    "\n",
    "reddit = praw.Reddit(client_id = client_id,\n",
    "                     client_secret = client_secret,\n",
    "                     user_agent = user_agent)"
   ]
  },
  {
   "cell_type": "code",
   "execution_count": null,
   "metadata": {
    "collapsed": true
   },
   "outputs": [],
   "source": [
    "pri"
   ]
  }
 ],
 "metadata": {
  "kernelspec": {
   "display_name": "Python 3",
   "language": "python",
   "name": "python3"
  },
  "language_info": {
   "codemirror_mode": {
    "name": "ipython",
    "version": 3
   },
   "file_extension": ".py",
   "mimetype": "text/x-python",
   "name": "python",
   "nbconvert_exporter": "python",
   "pygments_lexer": "ipython3",
   "version": "3.5.2"
  }
 },
 "nbformat": 4,
 "nbformat_minor": 0
}
