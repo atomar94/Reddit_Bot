{
 "cells": [
  {
   "cell_type": "code",
   "execution_count": 4,
   "metadata": {
    "collapsed": false
   },
   "outputs": [],
   "source": [
    "import praw\n",
    "import configparser\n"
   ]
  },
  {
   "cell_type": "code",
   "execution_count": 5,
   "metadata": {
    "collapsed": true
   },
   "outputs": [],
   "source": [
    "cfg = configparser.ConfigParser()\n",
    "cfg['CREDENTIALS'] =  {\"Username\": \"filler\",\n",
    "                       \"Password\": \"filler\"}\n",
    "cfg['AUTH'] = {\"ClientID\": \"filler\",\n",
    "               \"Secret\": \"filler\",\n",
    "               \"UserAgent\": \"Playing with the Reddit API by <filler>\"}\n",
    "\n",
    "with open(\"credentials.ini\", 'w') as cfgfile:\n",
    "    cfg.write(cfgfile)"
   ]
  },
  {
   "cell_type": "code",
   "execution_count": 6,
   "metadata": {
    "collapsed": false
   },
   "outputs": [
    {
     "data": {
      "text/plain": [
       "['credentials.ini']"
      ]
     },
     "execution_count": 6,
     "metadata": {},
     "output_type": "execute_result"
    }
   ],
   "source": [
    "cfg = configparser.ConfigParser()\n",
    "cfg.read(\"credentials.ini\")"
   ]
  },
  {
   "cell_type": "code",
   "execution_count": 7,
   "metadata": {
    "collapsed": false
   },
   "outputs": [
    {
     "data": {
      "text/plain": [
       "['CREDENTIALS', 'AUTH']"
      ]
     },
     "execution_count": 7,
     "metadata": {},
     "output_type": "execute_result"
    }
   ],
   "source": [
    "cfg.sections()"
   ]
  },
  {
   "cell_type": "code",
   "execution_count": 12,
   "metadata": {
    "collapsed": false
   },
   "outputs": [
    {
     "data": {
      "text/plain": [
       "'Playing with the Reddit API by /u/memes_420'"
      ]
     },
     "execution_count": 12,
     "metadata": {},
     "output_type": "execute_result"
    }
   ],
   "source": [
    "print(cfg[\"CREDENTIALS\"][\"Username\"])\n",
    "print(cfg[\"CREDENTIALS\"][\"Password\"])\n",
    "cfg[\"AUTH\"][\"ClientID\"])\n",
    "cfg[\"AUTH\"][\"Secret\"])\n",
    "cfg[\"AUTH\"][\"UserAgent\"]"
   ]
  },
  {
   "cell_type": "code",
   "execution_count": null,
   "metadata": {
    "collapsed": true
   },
   "outputs": [],
   "source": []
  }
 ],
 "metadata": {
  "kernelspec": {
   "display_name": "Python 3",
   "language": "python",
   "name": "python3"
  },
  "language_info": {
   "codemirror_mode": {
    "name": "ipython",
    "version": 3
   },
   "file_extension": ".py",
   "mimetype": "text/x-python",
   "name": "python",
   "nbconvert_exporter": "python",
   "pygments_lexer": "ipython3",
   "version": "3.5.2"
  }
 },
 "nbformat": 4,
 "nbformat_minor": 0
}
